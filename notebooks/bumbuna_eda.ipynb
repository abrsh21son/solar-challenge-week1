{
 "cells": [
  {
   "cell_type": "markdown",
   "id": "28e7c4ea",
   "metadata": {},
   "source": []
  },
  {
   "cell_type": "code",
   "execution_count": null,
   "id": "b432502d",
   "metadata": {},
   "outputs": [
    {
     "ename": "ModuleNotFoundError",
     "evalue": "No module named 'pandas'",
     "output_type": "error",
     "traceback": [
      "\u001b[31m---------------------------------------------------------------------------\u001b[39m",
      "\u001b[31mModuleNotFoundError\u001b[39m                       Traceback (most recent call last)",
      "\u001b[36mCell\u001b[39m\u001b[36m \u001b[39m\u001b[32mIn[1]\u001b[39m\u001b[32m, line 1\u001b[39m\n\u001b[32m----> \u001b[39m\u001b[32m1\u001b[39m \u001b[38;5;28;01mimport\u001b[39;00m\u001b[38;5;250m \u001b[39m\u001b[34;01mpandas\u001b[39;00m\u001b[38;5;250m \u001b[39m\u001b[38;5;28;01mas\u001b[39;00m\u001b[38;5;250m \u001b[39m\u001b[34;01mpd\u001b[39;00m\n\u001b[32m      2\u001b[39m \u001b[38;5;28;01mimport\u001b[39;00m\u001b[38;5;250m \u001b[39m\u001b[34;01mnumpy\u001b[39;00m\u001b[38;5;250m \u001b[39m\u001b[38;5;28;01mas\u001b[39;00m\u001b[38;5;250m \u001b[39m\u001b[34;01mnp\u001b[39;00m\n\u001b[32m      3\u001b[39m \u001b[38;5;28;01mimport\u001b[39;00m\u001b[38;5;250m \u001b[39m\u001b[34;01mmatplotlib\u001b[39;00m\u001b[34;01m.\u001b[39;00m\u001b[34;01mpyplot\u001b[39;00m\u001b[38;5;250m \u001b[39m\u001b[38;5;28;01mas\u001b[39;00m\u001b[38;5;250m \u001b[39m\u001b[34;01mplt\u001b[39;00m\n",
      "\u001b[31mModuleNotFoundError\u001b[39m: No module named 'pandas'"
     ]
    }
   ],
   "source": [
    "import pandas as pd\n",
    "import numpy as np\n",
    "import matplotlib.pyplot as plt\n",
    "import seaborn as sns\n",
    "from scipy.stats import zscore\n",
    "\n",
    "\n",
    "# Load dataset\n",
    "df = pd.read_csv('../data/sierraleone-bumbuna.csv'\n",
    "# Basic summary\n",
    "print(\"Summary Statistics sierraleone-bumbuna :\")\n",
    "print(df.describe())\n",
    "print(\"\\nMissing Values (%):\")\n",
    "print(df.isna().sum() / len(df) * 100)\n",
    "\n",
    "# Outlier Detection using Z-Score\n",
    "for col in ['GHI', 'DNI', 'DHI', 'ModA', 'ModB', 'WS', 'WSgust']:\n",
    "    df['z_' + col] = zscore(df[col].fillna(df[col].median()))\n",
    "    df = df[df['z_' + col].abs() < 3]\n",
    "\n",
    "# Export cleaned data (ignored in .gitignore)\n",
    "df.to_csv('../data/bumbuna_clean.csv', index=False)\n",
    "\n",
    "# --- VISUALIZATIONS ---\n",
    "\n",
    "# 1. GHI, DNI, DHI over time\n",
    "plt.figure(figsize=(12, 5))\n",
    "plt.plot(df['Timestamp'], df['GHI'], label='GHI')\n",
    "plt.plot(df['Timestamp'], df['DNI'], label='DNI')\n",
    "plt.plot(df['Timestamp'], df['DHI'], label='DHI')\n",
    "plt.title('Solar Irradiance Over Time - Malanville')\n",
    "plt.xlabel('Timestamp')\n",
    "plt.ylabel('Irradiance (W/m²)')\n",
    "plt.legend()\n",
    "plt.xticks(rotation=45)\n",
    "plt.tight_layout()\n",
    "plt.show()\n",
    "\n",
    "# 2. RH vs Tamb\n",
    "plt.figure(figsize=(8, 5))\n",
    "sns.scatterplot(x='RH', y='Tamb', data=df)\n",
    "plt.title('Relative Humidity vs. Ambient Temperature - Malanville')\n",
    "plt.xlabel('Relative Humidity (%)')\n",
    "plt.ylabel('Ambient Temperature (°C)')\n",
    "plt.tight_layout()\n",
    "plt.show()\n",
    "\n",
    "# 3. Cleaning Effect\n",
    "plt.figure(figsize=(6, 4))\n",
    "df.groupby('Cleaning')[['ModA', 'ModB']].mean().plot(kind='bar', legend=True)\n",
    "plt.title('Effect of Cleaning on Module Output - Malanville')\n",
    "plt.ylabel('Irradiance (W/m²)')\n",
    "plt.xticks(rotation=0)\n",
    "plt.tight_layout()\n",
    "plt.show()\n",
    "\n",
    "# 4. Correlation Heatmap\n",
    "plt.figure(figsize=(10, 8))\n",
    "corr = df[['GHI', 'DNI', 'DHI', 'TModA', 'TModB', 'Tamb', 'RH']].corr()\n",
    "sns.heatmap(corr, annot=True, cmap='coolwarm', fmt=\".2f\")\n",
    "plt.title('Correlation Heatmap - Malanville')\n",
    "plt.tight_layout()\n",
    "plt.show()\n",
    "\n",
    "# 5. Bubble Chart\n",
    "plt.figure(figsize=(10, 6))\n",
    "scatter = plt.scatter(df['GHI'], df['Tamb'], s=df['RH']*2, c=df['BP'], cmap='viridis', alpha=0.7)\n",
    "plt.colorbar(scatter, label='Barometric Pressure (hPa)')\n",
    "plt.xlabel('GHI (W/m²)')\n",
    "plt.ylabel('Tamb (°C)')\n",
    "plt.title('GHI vs Tamb - Bubble: RH, Color: BP - Malanville')\n",
    "plt.tight_layout()\n",
    "plt.show()\n"
   ]
  }
 ],
 "metadata": {
  "kernelspec": {
   "display_name": "Python 3",
   "language": "python",
   "name": "python3"
  },
  "language_info": {
   "codemirror_mode": {
    "name": "ipython",
    "version": 3
   },
   "file_extension": ".py",
   "mimetype": "text/x-python",
   "name": "python",
   "nbconvert_exporter": "python",
   "pygments_lexer": "ipython3",
   "version": "3.13.3"
  }
 },
 "nbformat": 4,
 "nbformat_minor": 5
}
